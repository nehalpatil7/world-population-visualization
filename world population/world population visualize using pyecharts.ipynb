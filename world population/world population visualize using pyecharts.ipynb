{
 "cells": [
  {
   "cell_type": "code",
   "execution_count": 1,
   "metadata": {},
   "outputs": [],
   "source": [
    "import pandas as pd\n",
    "\n",
    "from pyecharts.charts import Map,Geo\n",
    "from pyecharts import options as opts, render\n",
    "from pyecharts.globals import ThemeType"
   ]
  },
  {
   "cell_type": "code",
   "execution_count": 26,
   "metadata": {},
   "outputs": [],
   "source": [
    "dataset=pd.read_csv(\"country wise population.csv\")"
   ]
  },
  {
   "cell_type": "code",
   "execution_count": 27,
   "metadata": {},
   "outputs": [],
   "source": [
    "country=list(dataset['Country Name'])\n",
    "population=list(dataset['2019'])"
   ]
  },
  {
   "cell_type": "code",
   "execution_count": 32,
   "metadata": {},
   "outputs": [
    {
     "ename": "SyntaxError",
     "evalue": "invalid syntax (<ipython-input-32-6446927de13e>, line 6)",
     "output_type": "error",
     "traceback": [
      "\u001b[0;36m  File \u001b[0;32m\"<ipython-input-32-6446927de13e>\"\u001b[0;36m, line \u001b[0;32m6\u001b[0m\n\u001b[0;31m    title_opts=opts.TitleOpts(title=\"World Population\",\u001b[0m\n\u001b[0m              ^\u001b[0m\n\u001b[0;31mSyntaxError\u001b[0m\u001b[0;31m:\u001b[0m invalid syntax\n"
     ]
    }
   ],
   "source": [
    "list1 = [[country[i],population[i]] for i in range(len(country))]\n",
    "map_1 = Map(init_opts=opts.InitOpts(width=\"1000px\", height=\"460px\",theme=ThemeType.ROMANTIC))\n",
    "map_1.add('Total Population', list1,maptype='world',is_map_symbol_show=False)\n",
    "map_1.set_series_opts(label_opts=opts.LabelOpts(is_show=False))\n",
    "map_1.set_global_opts(visualmap_opts=opts.VisualMapOpts(),\n",
    " title_opts=opts.TitleOpts(title=\"World Population\",\n",
    " subtitle='Till 2016',pos_left='center',padding=0,item_gap=2,\n",
    " title_textstyle_opts= opts.TextStyleOpts(color='darkblue',\n",
    " font_weight='bold',font_family='Courier New',\n",
    " font_size=30),subtitle_textstyle_opts= opts.TextStyleOpts(color='grey',\n",
    " font_weight='bold',font_family='Courier New',\n",
    " font_size=13)),legend_opts=opts.LegendOpts(is_show=False))\n",
    "map_1.render_notebook()"
   ]
  },
  {
   "cell_type": "code",
   "execution_count": null,
   "metadata": {},
   "outputs": [],
   "source": []
  }
 ],
 "metadata": {
  "kernelspec": {
   "display_name": "Python 3",
   "language": "python",
   "name": "python3"
  },
  "language_info": {
   "codemirror_mode": {
    "name": "ipython",
    "version": 3
   },
   "file_extension": ".py",
   "mimetype": "text/x-python",
   "name": "python",
   "nbconvert_exporter": "python",
   "pygments_lexer": "ipython3",
   "version": "3.8.3"
  }
 },
 "nbformat": 4,
 "nbformat_minor": 4
}
